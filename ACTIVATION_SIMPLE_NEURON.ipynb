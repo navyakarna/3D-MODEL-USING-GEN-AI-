{
  "nbformat": 4,
  "nbformat_minor": 0,
  "metadata": {
    "colab": {
      "provenance": [],
      "authorship_tag": "ABX9TyNUKhD6xFzHFjLntv5smVzu",
      "include_colab_link": true
    },
    "kernelspec": {
      "name": "python3",
      "display_name": "Python 3"
    },
    "language_info": {
      "name": "python"
    }
  },
  "cells": [
    {
      "cell_type": "markdown",
      "metadata": {
        "id": "view-in-github",
        "colab_type": "text"
      },
      "source": [
        "<a href=\"https://colab.research.google.com/github/navyakarna/3D-MODEL-USING-GEN-AI-/blob/main/ACTIVATION_SIMPLE_NEURON.ipynb\" target=\"_parent\"><img src=\"https://colab.research.google.com/assets/colab-badge.svg\" alt=\"Open In Colab\"/></a>"
      ]
    },
    {
      "cell_type": "markdown",
      "source": [
        "DEEP LEARNING IS A SUB-FIELD OF MACHINE LEARNING .LEARN COMPLEX PATTERNS\n",
        "\n",
        "DL AND ML BOTH ( DO LEARNIG FROM DATA , AND MAKING PREDICTIONS FROM THAT.)\n",
        "\n",
        "\n",
        "\n",
        "\n",
        "\n"
      ],
      "metadata": {
        "id": "g3ffUHKrXP4W"
      }
    },
    {
      "cell_type": "markdown",
      "source": [
        "DEEP LEARNING\n",
        "\n",
        "\n",
        "*  UNSTRUCTURED DATA\n",
        "\n",
        "*   COMPLEX TASKS\n",
        "*   ALGORITHM AND APPROACH\n",
        "\n",
        "\n",
        "-- FALL UNDER CV AND NLP\n",
        "- MORE POWERFUL MACHINES WOULD USE - GPU'S TPU'S\n",
        "\n",
        "\n",
        "\n"
      ],
      "metadata": {
        "id": "Pc_Jy37mgdQQ"
      }
    },
    {
      "cell_type": "markdown",
      "source": [
        "MACHINE LEARNING\n",
        "\n",
        "\n",
        "\n",
        "*   STRUCTURED DATA\n",
        "*   SIMPLER TASK\n",
        "* LESS POWERFUL MACHINES NEEDED\n",
        "\n"
      ],
      "metadata": {
        "id": "9owoBo1YgqgD"
      }
    },
    {
      "cell_type": "markdown",
      "source": [
        "Neurons - its a simplest type of ANN.\n",
        "\n",
        "\n",
        "*   BIAS IS AN ADDITIONAL PARAMETER TAHT IS ADDED TO WEIGHTED SU, OF INPUTS THAT INFLUENCES THE NEURONS OUTPUT INDENEPDENTLY OF ITS INPUTS.\n",
        "*   SUMMATION ( ALL WEIGHTS ARE COMBINED TO REACH A TENTATIVE DECISIOM)\n",
        "* Takes the weighted sum and gives final output based on the rule or threshold.\n",
        "* Activation Function intoduces non-linearity to the model.\n",
        "* COMMON ACTIVATION FUNCTION\n",
        "* 1. STEP - {IF ACTIVATION INPUT > THRESHOLD } NEURON IS ACTIVATED , OTHERWISE NOT\n",
        "* LINEAR FUNCTION - > IT IS JUST PROPORTIONAL TO THE INPUT , IT PRESERVES THE LINEAR NATURE\n",
        "* SIGMOID FUNCTION - RANGE BTW 0 AND 1 ( 1 / 1 + E^X )\n",
        "* TANH - RANGE BTW -1 TO 1\n",
        "( E^X - E^-X / E^X + E^-X)\n",
        "*"
      ],
      "metadata": {
        "id": "mD41pJbm6-74"
      }
    },
    {
      "cell_type": "code",
      "execution_count": 1,
      "metadata": {
        "id": "4lIWNCK-XPHY"
      },
      "outputs": [],
      "source": [
        "import torch.nn as nn\n",
        "import torch"
      ]
    },
    {
      "cell_type": "code",
      "source": [
        "inputs = torch.tensor([3.0, 2.0, -1.0])"
      ],
      "metadata": {
        "id": "RLkPXsEqUNXr"
      },
      "execution_count": 2,
      "outputs": []
    },
    {
      "cell_type": "code",
      "source": [
        "neuron = nn.Linear(in_features=3, out_features=1)\n",
        "output = neuron(inputs)"
      ],
      "metadata": {
        "id": "MBVj-zq6UXC0"
      },
      "execution_count": 3,
      "outputs": []
    },
    {
      "cell_type": "code",
      "source": [
        "print(output)"
      ],
      "metadata": {
        "colab": {
          "base_uri": "https://localhost:8080/"
        },
        "id": "ZrmNTnxLUitU",
        "outputId": "0dd95f20-7c3e-4ecf-8112-360fbc88b069"
      },
      "execution_count": 4,
      "outputs": [
        {
          "output_type": "stream",
          "name": "stdout",
          "text": [
            "tensor([1.9569], grad_fn=<ViewBackward0>)\n"
          ]
        }
      ]
    },
    {
      "cell_type": "code",
      "source": [
        "neuron.bias"
      ],
      "metadata": {
        "colab": {
          "base_uri": "https://localhost:8080/"
        },
        "id": "bQDgXcY-UnD0",
        "outputId": "adfe837b-c3bb-4077-b37f-2dec1a5a6204"
      },
      "execution_count": 5,
      "outputs": [
        {
          "output_type": "execute_result",
          "data": {
            "text/plain": [
              "Parameter containing:\n",
              "tensor([-0.0854], requires_grad=True)"
            ]
          },
          "metadata": {},
          "execution_count": 5
        }
      ]
    },
    {
      "cell_type": "markdown",
      "source": [
        "NOTE : WE USE LINEAR ACTIVATION FUNCTION WHEN THE OUTPUT COULE ALSO BE NEGATIVE LIKE TEMPRATURE PREDICTION\n",
        "\n",
        "\n",
        "\n",
        "\n",
        "*   RELU IS USED FOR POSITIVE OUPUTS LIKE HOUSE LOAN PREDICTIONS\n",
        "*   SIGNOID ACTIVATION FUNCTION IS USED FOR BINARY CLASSIFIACTION.\n",
        "* SOFTMAX IS USE FOR MULTI CLASSIFICATION PROBLEM\n",
        "\n"
      ],
      "metadata": {
        "id": "Pnu7KuuZWmPH"
      }
    },
    {
      "cell_type": "code",
      "source": [],
      "metadata": {
        "id": "up5nCWt5b04K"
      },
      "execution_count": null,
      "outputs": []
    }
  ]
}