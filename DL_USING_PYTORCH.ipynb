{
  "nbformat": 4,
  "nbformat_minor": 0,
  "metadata": {
    "colab": {
      "provenance": [],
      "authorship_tag": "ABX9TyPcH8NF4Rf6++YW7ZHCRJDq",
      "include_colab_link": true
    },
    "kernelspec": {
      "name": "python3",
      "display_name": "Python 3"
    },
    "language_info": {
      "name": "python"
    }
  },
  "cells": [
    {
      "cell_type": "markdown",
      "metadata": {
        "id": "view-in-github",
        "colab_type": "text"
      },
      "source": [
        "<a href=\"https://colab.research.google.com/github/navyakarna/3D-MODEL-USING-GEN-AI-/blob/main/DL_USING_PYTORCH.ipynb\" target=\"_parent\"><img src=\"https://colab.research.google.com/assets/colab-badge.svg\" alt=\"Open In Colab\"/></a>"
      ]
    },
    {
      "cell_type": "markdown",
      "source": [
        "DEEP LEARNING IS A SUB-FIELD OF MACHINE LEARNING .LEARN COMPLEX PATTERNS\n",
        "\n",
        "DL AND ML BOTH ( DO LEARNIG FROM DATA , AND MAKING PREDICTIONS FROM THAT.)\n",
        "\n",
        "\n",
        "\n",
        "\n",
        "\n"
      ],
      "metadata": {
        "id": "g3ffUHKrXP4W"
      }
    },
    {
      "cell_type": "markdown",
      "source": [
        "DEEP LEARNING\n",
        "\n",
        "\n",
        "*  UNSTRUCTURED DATA\n",
        "\n",
        "*   COMPLEX TASKS\n",
        "*   ALGORITHM AND APPROACH\n",
        "\n",
        "\n",
        "-- FALL UNDER CV AND NLP\n",
        "- MORE POWERFUL MACHINES WOULD USE - GPU'S TPU'S\n",
        "\n",
        "\n",
        "\n"
      ],
      "metadata": {
        "id": "Pc_Jy37mgdQQ"
      }
    },
    {
      "cell_type": "markdown",
      "source": [
        "MACHINE LEARNING\n",
        "\n",
        "\n",
        "\n",
        "*   STRUCTURED DATA\n",
        "*   SIMPLER TASK\n",
        "* LESS POWERFUL MACHINES NEEDED\n",
        "\n"
      ],
      "metadata": {
        "id": "9owoBo1YgqgD"
      }
    },
    {
      "cell_type": "markdown",
      "source": [
        "Neurons - its a simplest type of ANN.\n",
        "\n",
        "\n",
        "*   BIAS IS AN ADDITIONAL PARAMETER TAHT IS ADDED TO WEIGHTED SU, OF INPUTS THAT INFLUENCES THE NEURONS OUTPUT INDENEPDENTLY OF ITS INPUTS.\n",
        "*   SUMMATION ( ALL WEIGHTS ARE COMBINED TO REACH A TENTATIVE DECISIOM)\n",
        "* Takes the weighted sum and gives final output based on the rule or threshold.\n",
        "* Activation Function intoduces non-linearity to the model.\n",
        "* COMMON ACTIVATION FUNCTION\n",
        "* 1. STEP - {IF ACTIVATION INPUT > THRESHOLD } NEURON IS ACTIVATED , OTHERWISE NOT\n",
        "* LINEAR FUNCTION - > IT IS JUST PROPORTIONAL TO THE INPUT , IT PRESERVES THE LINEAR NATURE\n",
        "* SIGMOID FUNCTION - RANGE BTW 0 AND 1 ( 1 / 1 + E^X )\n",
        "* TANH - RANGE BTW -1 TO 1\n",
        "( E^X - E^-X / E^X + E^-X)\n",
        "*"
      ],
      "metadata": {
        "id": "mD41pJbm6-74"
      }
    },
    {
      "cell_type": "code",
      "execution_count": null,
      "metadata": {
        "id": "4lIWNCK-XPHY"
      },
      "outputs": [],
      "source": []
    }
  ]
}