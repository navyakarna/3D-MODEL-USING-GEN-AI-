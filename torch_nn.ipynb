{
  "nbformat": 4,
  "nbformat_minor": 0,
  "metadata": {
    "colab": {
      "provenance": [],
      "gpuType": "T4",
      "authorship_tag": "ABX9TyNE77QYVevcH6k3wKw3uKU9",
      "include_colab_link": true
    },
    "kernelspec": {
      "name": "python3",
      "display_name": "Python 3"
    },
    "language_info": {
      "name": "python"
    },
    "accelerator": "GPU"
  },
  "cells": [
    {
      "cell_type": "markdown",
      "metadata": {
        "id": "view-in-github",
        "colab_type": "text"
      },
      "source": [
        "<a href=\"https://colab.research.google.com/github/navyakarna/3D-MODEL-USING-GEN-AI-/blob/main/torch_nn.ipynb\" target=\"_parent\"><img src=\"https://colab.research.google.com/assets/colab-badge.svg\" alt=\"Open In Colab\"/></a>"
      ]
    },
    {
      "cell_type": "markdown",
      "source": [
        "To even make 1 hidden layer we had to write so much of code , so that's why we have modules in python torch which makesarework easier.\n",
        "\n",
        "\n",
        "Torch.nn modules\n",
        "\n",
        "layers - linear , conv2d, MaxPool2d, etc\n",
        "\n",
        "Activation - sigmoid , tanh , relu\n",
        "\n",
        "- loss function - mseloss , crosss entropy loss\n",
        "\n",
        "\n",
        "\n",
        "- torch.autograd module\n"
      ],
      "metadata": {
        "id": "eJlhdUPTr7S5"
      }
    },
    {
      "cell_type": "code",
      "execution_count": 6,
      "metadata": {
        "id": "g9VyWDeQrygM"
      },
      "outputs": [],
      "source": [
        "import torch"
      ]
    },
    {
      "cell_type": "markdown",
      "source": [
        "NO WE WILL GO TO THE NEXT MODULE WHICH IS OPTIUM , (TORCH.OPTIUM)\n",
        "\n",
        "-SGD , RMSProp , Adam\n",
        "THESE ALL ARE INCLUDED IN OPTIUM"
      ],
      "metadata": {
        "id": "cMJoaQjmWFRM"
      }
    },
    {
      "cell_type": "code",
      "source": [
        "a = torch.tensor([[1,1], [1,1]], dtype=torch.float)"
      ],
      "metadata": {
        "id": "i4vz21xLvhbn"
      },
      "execution_count": 7,
      "outputs": []
    },
    {
      "cell_type": "markdown",
      "source": [
        "Torch.autograd - provides function which do automatic differentiation"
      ],
      "metadata": {
        "id": "ZDbhx8QfWhlA"
      }
    },
    {
      "cell_type": "code",
      "source": [
        "b = a + 5\n",
        "print(b)\n"
      ],
      "metadata": {
        "colab": {
          "base_uri": "https://localhost:8080/"
        },
        "id": "pK7pArCqWcnE",
        "outputId": "3db95536-1bef-4f47-8e34-83c94b770475"
      },
      "execution_count": 8,
      "outputs": [
        {
          "output_type": "stream",
          "name": "stdout",
          "text": [
            "tensor([[6., 6.],\n",
            "        [6., 6.]])\n"
          ]
        }
      ]
    },
    {
      "cell_type": "code",
      "source": [
        "c = b.mean()\n",
        "print(c)"
      ],
      "metadata": {
        "colab": {
          "base_uri": "https://localhost:8080/"
        },
        "id": "5fz6qSClWra8",
        "outputId": "bc1453d1-0b08-49eb-97c4-c0def631b844"
      },
      "execution_count": 11,
      "outputs": [
        {
          "output_type": "stream",
          "name": "stdout",
          "text": [
            "tensor(6.)\n"
          ]
        }
      ]
    },
    {
      "cell_type": "markdown",
      "source": [
        "b = a + 5, so c = mean of (a+5)"
      ],
      "metadata": {
        "id": "3uooE4YBXDx3"
      }
    },
    {
      "cell_type": "markdown",
      "source": [
        "gradient of c with respect to a , dc/da = dc/db* db/da = 1/4(1+0)*(1+0) = 1/4 = 0.25"
      ],
      "metadata": {
        "id": "GO-5ywwlXKZy"
      }
    },
    {
      "cell_type": "markdown",
      "source": [
        "BUt we could do the whole process ,"
      ],
      "metadata": {
        "id": "Uzq12OtbXj-w"
      }
    },
    {
      "cell_type": "code",
      "source": [
        "a = torch.tensor([[1,1], [1,1]], dtype=torch.float, requires_grad=True)"
      ],
      "metadata": {
        "id": "4jgPrx16XasS"
      },
      "execution_count": 12,
      "outputs": []
    },
    {
      "cell_type": "code",
      "source": [
        "a"
      ],
      "metadata": {
        "colab": {
          "base_uri": "https://localhost:8080/"
        },
        "id": "_xoslRXMaUtX",
        "outputId": "5f834cee-43f1-459a-e0ab-a0ef25691e73"
      },
      "execution_count": 13,
      "outputs": [
        {
          "output_type": "execute_result",
          "data": {
            "text/plain": [
              "tensor([[1., 1.],\n",
              "        [1., 1.]], requires_grad=True)"
            ]
          },
          "metadata": {},
          "execution_count": 13
        }
      ]
    },
    {
      "cell_type": "code",
      "source": [
        "b = a+5\n",
        "c = b.mean()\n",
        "print(b)\n",
        "print(c)"
      ],
      "metadata": {
        "colab": {
          "base_uri": "https://localhost:8080/"
        },
        "id": "JIVcgRJ-aVZH",
        "outputId": "0e93876c-1b5a-46af-f504-16a82553e66a"
      },
      "execution_count": 14,
      "outputs": [
        {
          "output_type": "stream",
          "name": "stdout",
          "text": [
            "tensor([[6., 6.],\n",
            "        [6., 6.]], grad_fn=<AddBackward0>)\n",
            "tensor(6., grad_fn=<MeanBackward0>)\n"
          ]
        }
      ]
    },
    {
      "cell_type": "code",
      "source": [
        "c.backward() #back propagaration"
      ],
      "metadata": {
        "id": "UKWbkm6Kad_I"
      },
      "execution_count": 18,
      "outputs": []
    },
    {
      "cell_type": "code",
      "source": [
        "print(a.grad)"
      ],
      "metadata": {
        "colab": {
          "base_uri": "https://localhost:8080/"
        },
        "id": "8c3AlCiaaoTX",
        "outputId": "b31aae4a-c8eb-4f76-84b6-de2dde1feeb2"
      },
      "execution_count": 17,
      "outputs": [
        {
          "output_type": "stream",
          "name": "stdout",
          "text": [
            "tensor([[0.2500, 0.2500],\n",
            "        [0.2500, 0.2500]])\n"
          ]
        }
      ]
    }
  ]
}